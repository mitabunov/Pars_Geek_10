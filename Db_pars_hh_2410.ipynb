{
 "cells": [
  {
   "cell_type": "markdown",
   "metadata": {},
   "source": [
    "1) Развернуть у себя на компьютере/виртуальной машине/хостинге MongoDB и реализовать функцию, записывающую собранные вакансии в созданную БД\n",
    "2) Написать функцию, которая производит поиск и выводит на экран вакансии с заработной платой больше введенной суммы\n",
    "3*)Написать функцию, которая будет добавлять в вашу базу данных только новые вакансии с сайта"
   ]
  },
  {
   "cell_type": "code",
   "execution_count": 1,
   "metadata": {},
   "outputs": [],
   "source": [
    "import sqlalchemy\n",
    "from numpy import genfromtxt\n",
    "from time import time\n",
    "from datetime import datetime\n",
    "from sqlalchemy import Column, Integer, Float, Date, String, VARCHAR\n",
    "from sqlalchemy.ext.declarative import declarative_base\n",
    "from sqlalchemy import create_engine\n",
    "from sqlalchemy import create_engine, MetaData, Table\n",
    "from sqlalchemy.orm import sessionmaker\n",
    "import csv\n",
    "import pandas as pd\n",
    "from sqlalchemy import create_engine\n",
    "\n",
    "from sqlalchemy.types import Integer\n",
    "from sqlalchemy.sql import select"
   ]
  },
  {
   "cell_type": "code",
   "execution_count": 2,
   "metadata": {},
   "outputs": [],
   "source": [
    "\n",
    "engine = create_engine('sqlite://', echo=False)"
   ]
  },
  {
   "cell_type": "code",
   "execution_count": 3,
   "metadata": {
    "scrolled": true
   },
   "outputs": [
    {
     "data": {
      "text/plain": [
       "['users_vac']"
      ]
     },
     "execution_count": 3,
     "metadata": {},
     "output_type": "execute_result"
    }
   ],
   "source": [
    "df = pd.read_csv('/home/mikhail/Рабочий стол/Parsing_10/python_hh_2210_2.csv')\n",
    "df = pd.DataFrame(df)\n",
    "df.to_sql('users_vac', con=engine, dtype={\"zp_min\": Integer(), \"zp_max\" : Integer()})\n",
    "engine.execute(\"SELECT * FROM users_vac\").fetchall()\n",
    "engine.table_names()"
   ]
  },
  {
   "cell_type": "code",
   "execution_count": 4,
   "metadata": {},
   "outputs": [
    {
     "name": "stdout",
     "output_type": "stream",
     "text": [
      "Table('users_vac', MetaData(bind=None), Column('index', BIGINT(), table=<users_vac>), Column('name_vacancy', TEXT(), table=<users_vac>), Column('URL', TEXT(), table=<users_vac>), Column('name_company', TEXT(), table=<users_vac>), Column('zp_min', INTEGER(), table=<users_vac>), Column('zp_max', INTEGER(), table=<users_vac>), schema=None)\n"
     ]
    }
   ],
   "source": [
    "metadata = MetaData()\n",
    "\n",
    "vac_db = Table('users_vac', metadata, autoload=True, autoload_with=engine)\n",
    "print(repr(vac_db))\n"
   ]
  },
  {
   "cell_type": "code",
   "execution_count": 6,
   "metadata": {},
   "outputs": [
    {
     "name": "stdout",
     "output_type": "stream",
     "text": [
      "ООО КВАНТПОРТРУС Junior Quantitative Researcher 250000\n",
      "ООО БОЛЬШАЯ ТРОЙКА Backend python/Django разработчик 120000\n",
      "ООО КВАНТПОРТРУС Junior Quantitative Researcher 250000\n",
      "ООО БОЛЬШАЯ ТРОЙКА Backend python/Django разработчик 120000\n",
      " AROUND, Группа компаний Computer vision data scientist 120000\n",
      " DataFork Data Engineering Team Lead (Python / C++) 300000\n",
      " AROUND, Группа компаний Python backend developer 120000\n",
      " IVIDEON Python developer 160000\n",
      " Soshace Python Web Developer 200000\n",
      " B2Broker Москва Python developer 150000\n",
      " Открытые Технологии Разработчик Python 120000\n",
      " Алгоритмика Методист-эксперт Python 130000\n",
      "ООО Смартекс Full-stack разработчик Django / Python 120000\n",
      " Открытые Технологии Аналитик данных / Data Scientist 120000\n",
      " Softline Старший программист Python 120000\n",
      "АО АСТ Web-разработчик full stack 150000\n",
      " ecomsolutions DevOps engineer 2500 USD\n",
      "ООО СофтПро Senior QA Engineer/Team Lead (мануальное тестирование) 200000\n",
      " Связной Главный аналитик-математик (Data Analyst / Data Scientist) 180000\n",
      " IVIDEON Senior Python developer (Cloud Services) 180000\n",
      " FUSION CORE Разработчик C++/cocos2d-x 130000\n",
      " Smart Development Ltd Senior QA Automation Engineer (Selenium) 2000 USD\n",
      "ООО НОВОТЕХ С# Developer / Data Engineer 150000\n",
      "АО Мосинжстрой Backend-разработчик 130000\n",
      "ООО Эйчэфти Арбитраж Golang ведущий разработчик 200000\n",
      " Smart Development Ltd Senior/Regular QA Manual Engineer 1500 USD\n",
      " Отраслевой центр разработок и внедрения информационных систем / ОЦРВ Специалист по анализу данных (Data Scientist) 110000\n",
      "ООО ГЕТСИЭРЭМ Специалист Oracle BI 160000\n",
      " Imhio Ltd Software Tester / QA Engineer 1300 USD\n",
      " КРАФТЕР BI разработчик 130000\n",
      " HFLabs Системный аналитик 185000\n",
      " Отраслевой центр разработок и внедрения информационных систем / ОЦРВ Data engineer в г. Сочи 110000\n",
      "ООО ЭИР ЛАБС РУС Программист встраиваемых систем C++ 150000\n",
      "ООО МФК Саммит Аналитик (кредитные риски) 120000\n",
      " NeoCommunications Инженер систем виртуализации и СХД / Системный администратор 110000\n",
      "ООО Аврора Бесконечность Backend разработчик 150000\n",
      " Anchous Drive Recruitment Java разработчик в отдел аналитики платёжной системы 150000\n",
      "ИП Бойченко Игнат Сергеевич Backend C++ sin / midl 120000\n",
      " YCLIENTS LLC Senior Vue.js Front-end Developer 180000\n",
      " АРТИ Ведущий инженер (внедрение и сопровождение автоматизированных систем) 120000\n",
      " Эквифакс Кредит Сервисиз Full stack PHP developer 120000\n",
      " SBI Bank DevOps Engineer 200000\n",
      " ПИК-БРОКЕР Lead data science 200000\n",
      "ООО Альтуэра Лабс Scala/Java Developer 120000\n",
      " Postuf Android Reverse Engineer 150000\n",
      " АЙНЬЮС, OOO Backend-разработчик 150000\n",
      "ИП Сметанин Владимир Анатольевич Программист в Германию 2800 EUR\n",
      " АМТ-ГРУП Инженер (Информационная безопасность) 115000\n",
      " Postuf IOS Reverse Engineer 150000\n",
      "АО АСТ Team lead / Ведущий разработчик 150000\n",
      " Insolar Solution Architect 270000\n",
      " АЙНЬЮС, OOO Devops-инженер 130000\n",
      " Связь инжиниринг М Программист-разработчик (Embedded Linux) 120000\n",
      " Свордфиш Секьюрити Application security engineer 150000\n",
      " Anchous Drive Recruitment Технический менеджер проектов 150000\n",
      "ООО Аналитические решения Senior asp.net developer (Ведущий asp.net разработчик/ C#) 150000\n",
      " Е100 Восток Middle QA Engineer 140000\n",
      " BARONA Frontend developer Angular / TypeScript 130000\n",
      "ООО Новейшие Цифровые Технологии Архитектор RPA решений 110000\n",
      " BARONA C++ Developer 130000\n",
      " Связной Программист-математик 170000\n",
      " Связной Начальник отдела системного администрирования Unix 180000\n"
     ]
    }
   ],
   "source": [
    "\n",
    "stmt = select([vac_db])\n",
    "\n",
    "stmt = stmt.where(vac_db.columns.zp_min > 100_000)\n",
    "\n",
    "connection = engine.connect()\n",
    "\n",
    "results = connection.execute(stmt).fetchall()\n",
    "\n",
    "for result in results:\n",
    "    print(result.name_company, result.name_vacancy, result.zp_min)"
   ]
  }
 ],
 "metadata": {
  "kernelspec": {
   "display_name": "Python 3",
   "language": "python",
   "name": "python3"
  },
  "language_info": {
   "codemirror_mode": {
    "name": "ipython",
    "version": 3
   },
   "file_extension": ".py",
   "mimetype": "text/x-python",
   "name": "python",
   "nbconvert_exporter": "python",
   "pygments_lexer": "ipython3",
   "version": "3.7.3"
  }
 },
 "nbformat": 4,
 "nbformat_minor": 2
}

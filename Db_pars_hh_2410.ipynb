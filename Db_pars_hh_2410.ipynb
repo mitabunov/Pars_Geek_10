{
 "cells": [
  {
   "cell_type": "markdown",
   "metadata": {},
   "source": [
    "1) Развернуть у себя на компьютере/виртуальной машине/хостинге MongoDB и реализовать функцию, записывающую собранные вакансии в созданную БД\n",
    "2) Написать функцию, которая производит поиск и выводит на экран вакансии с заработной платой больше введенной суммы\n",
    "3*)Написать функцию, которая будет добавлять в вашу базу данных только новые вакансии с сайта"
   ]
  },
  {
   "cell_type": "code",
   "execution_count": 1,
   "metadata": {},
   "outputs": [],
   "source": [
    "import sqlalchemy\n",
    "from numpy import genfromtxt\n",
    "from time import time\n",
    "from datetime import datetime\n",
    "from sqlalchemy import Column, Integer, Float, Date, String, VARCHAR\n",
    "from sqlalchemy.ext.declarative import declarative_base\n",
    "from sqlalchemy import create_engine\n",
    "from sqlalchemy import create_engine, MetaData, Table\n",
    "from sqlalchemy.orm import sessionmaker\n",
    "import csv\n",
    "import pandas as pd\n",
    "from sqlalchemy import create_engine\n",
    "\n",
    "from sqlalchemy.types import Integer\n",
    "from sqlalchemy.sql import select"
   ]
  },
  {
   "cell_type": "code",
   "execution_count": 2,
   "metadata": {},
   "outputs": [],
   "source": [
    "\n",
    "engine = create_engine('sqlite://', echo=False)"
   ]
  },
  {
   "cell_type": "code",
   "execution_count": 3,
   "metadata": {
    "scrolled": true
   },
   "outputs": [
    {
     "data": {
      "text/plain": [
       "['users_vac']"
      ]
     },
     "execution_count": 3,
     "metadata": {},
     "output_type": "execute_result"
    }
   ],
   "source": [
    "df = pd.read_csv('/home/mikhail/Рабочий стол/Parsing_10/python_hh_2210_2.csv')\n",
    "df = pd.DataFrame(df)\n",
    "df.to_sql('users_vac', con=engine, dtype={\"zp_min\": Integer(), \"zp_max\" : Integer()})\n",
    "engine.execute(\"SELECT * FROM users_vac\").fetchall()\n",
    "engine.table_names()"
   ]
  },
  {
   "cell_type": "code",
   "execution_count": 4,
   "metadata": {},
   "outputs": [
    {
     "name": "stdout",
     "output_type": "stream",
     "text": [
      "Table('users_vac', MetaData(bind=None), Column('index', BIGINT(), table=<users_vac>), Column('name_vacancy', TEXT(), table=<users_vac>), Column('URL', TEXT(), table=<users_vac>), Column('name_company', TEXT(), table=<users_vac>), Column('zp_min', INTEGER(), table=<users_vac>), Column('zp_max', INTEGER(), table=<users_vac>), schema=None)\n"
     ]
    }
   ],
   "source": [
    "metadata = MetaData()\n",
    "\n",
    "vac_db = Table('users_vac', metadata, autoload=True, autoload_with=engine)\n",
    "print(repr(vac_db))\n"
   ]
  },
  {
   "cell_type": "code",
   "execution_count": 7,
   "metadata": {},
   "outputs": [
    {
     "name": "stdout",
     "output_type": "stream",
     "text": [
      "минимальная зарплата: 200000\n"
     ]
    }
   ],
   "source": [
    "zp = int(input('минимальная зарплата: '))"
   ]
  },
  {
   "cell_type": "code",
   "execution_count": 8,
   "metadata": {},
   "outputs": [
    {
     "name": "stdout",
     "output_type": "stream",
     "text": [
      "ООО КВАНТПОРТРУС Junior Quantitative Researcher 250000\n",
      "ООО КВАНТПОРТРУС Junior Quantitative Researcher 250000\n",
      " DataFork Data Engineering Team Lead (Python / C++) 300000\n",
      " ecomsolutions DevOps engineer 2500 USD\n",
      " Smart Development Ltd Senior QA Automation Engineer (Selenium) 2000 USD\n",
      " Smart Development Ltd Senior/Regular QA Manual Engineer 1500 USD\n",
      " Imhio Ltd Software Tester / QA Engineer 1300 USD\n",
      "ИП Сметанин Владимир Анатольевич Программист в Германию 2800 EUR\n",
      " Insolar Solution Architect 270000\n"
     ]
    }
   ],
   "source": [
    "\n",
    "stmt = select([vac_db])\n",
    "\n",
    "# stmt = stmt.where(vac_db.columns.zp_min > 100_000)\n",
    "stmt = stmt.where(vac_db.columns.zp_min > zp)\n",
    "\n",
    "\n",
    "connection = engine.connect()\n",
    "\n",
    "results = connection.execute(stmt).fetchall()\n",
    "\n",
    "for result in results:\n",
    "    print(result.name_company, result.name_vacancy, result.zp_min)"
   ]
  }
 ],
 "metadata": {
  "kernelspec": {
   "display_name": "Python 3",
   "language": "python",
   "name": "python3"
  },
  "language_info": {
   "codemirror_mode": {
    "name": "ipython",
    "version": 3
   },
   "file_extension": ".py",
   "mimetype": "text/x-python",
   "name": "python",
   "nbconvert_exporter": "python",
   "pygments_lexer": "ipython3",
   "version": "3.7.3"
  }
 },
 "nbformat": 4,
 "nbformat_minor": 2
}

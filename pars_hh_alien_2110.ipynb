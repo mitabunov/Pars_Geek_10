{
 "cells": [
  {
   "cell_type": "code",
   "execution_count": 26,
   "metadata": {},
   "outputs": [],
   "source": [
    "import requests\n",
    "from bs4 import BeautifulSoup as bs\n",
    "import csv\n",
    "import re\n",
    "from tqdm import tqdm, tqdm_notebook"
   ]
  },
  {
   "cell_type": "code",
   "execution_count": 27,
   "metadata": {},
   "outputs": [
    {
     "name": "stdout",
     "output_type": "stream",
     "text": [
      "Вакансия: художник\n"
     ]
    }
   ],
   "source": [
    "vac_searche=str(input('Вакансия: '))"
   ]
  },
  {
   "cell_type": "code",
   "execution_count": 28,
   "metadata": {},
   "outputs": [
    {
     "data": {
      "text/plain": [
       "'https://hh.ru/search/vacancy?area=1&clusters=true&enable_snippets=true&search_period=3&text=художник&page=0'"
      ]
     },
     "execution_count": 28,
     "metadata": {},
     "output_type": "execute_result"
    }
   ],
   "source": [
    "headers = {'accept': '*/*',\n",
    "           'user-agent': 'Mozilla/5.0 (X11; Linux x86_64) AppleWebKit/537.36 (KHTML, like Gecko) Chrome/74.0.3729.131 Safari/537.36'\n",
    "           }\n",
    "\n",
    "base_url = f'https://hh.ru/search/vacancy?area=1&clusters=true&enable_snippets=\\\n",
    "true&search_period=3&text={vac_searche}&page=0'\n",
    "# base_url = f'https://hh.ru/search/vacancy?area=1&search_period=3&text={rex}+{city}'\n",
    "# base_url = f'https://hh.ru/search/vacancy?area=1&clusters=true&enable_snippets=true&search_period=3&text={rex}&page=0'\n",
    "# base_url_hh = f'https://hh.ru/search/vacancy?area=1&search_period=3&text={rex}'\n",
    "base_url\n",
    "# main_link = ('https://www.hh.ru')\n",
    "# # html = requests.get(main_link).text\n",
    "# html = requests.get(main_link+'/catalog/Informacionnye-tehnologii-Internet-Telekom', headers=headers).text\n",
    "\n",
    "# parsed_html = bs(html,'lxml')"
   ]
  },
  {
   "cell_type": "code",
   "execution_count": 29,
   "metadata": {},
   "outputs": [],
   "source": [
    "\n",
    "def hh_parse(base_url, headers):\n",
    "    jobs =[]\n",
    "    urls =[]\n",
    "    urls.append(base_url)\n",
    "    session = requests.session()\n",
    "    request = session.get(base_url, headers=headers)\n",
    "    if request.status_code == 200:\n",
    "        soup = bs(request.content, 'lxml')\n",
    "        try:\n",
    "            pagination = soup.find_all('a', attrs={'data-qa': 'pager-page'})\n",
    "            count = int(pagination[-1].text)\n",
    "            for i in range(count):\n",
    "                url = f'https://hh.ru/search/vacancy?area=1&clusters=true&enable_snippets=\\\n",
    "            true&search_period=3&text={vac_searche}&page={i}'\n",
    "#                  url = f'https://hh.ru/search/vacancy?area=1&clusters=true&enable_snippets=\\\n",
    "#                 true&search_period=3&text={rex}+{city}page={i}'\n",
    "                if url not in urls:\n",
    "                    urls.append(url)\n",
    "                #print(url)\n",
    "\n",
    "\n",
    "        except:\n",
    "            pass\n",
    "\n",
    "\n",
    "    for url in urls:\n",
    "        request = session.get(url, headers=headers)\n",
    "        soup = bs(request.content, 'lxml')\n",
    "\n",
    "\n",
    "        divs = soup.find_all('div', attrs={'data-qa' : 'vacancy-serp__vacancy'})\n",
    "        #print(len(divs)) - count in one page\n",
    "        for div in divs:\n",
    "            try:\n",
    "\n",
    "                title = div.find('a', attrs={'data-qa' : 'vacancy-serp__vacancy-title'}).text\n",
    "                href = div.find('a', attrs={'data-qa' : 'vacancy-serp__vacancy-title'})['href']\n",
    "                company = div.find('a', attrs={'data-qa' : 'vacancy-serp__vacancy-employer'}).text\n",
    "                text1 = div.find('div', attrs={'data-qa' : 'vacancy-serp__vacancy_snippet_responsibility'}).text\n",
    "                text2 = div.find('div', attrs={'data-qa' : 'vacancy-serp__vacancy_snippet_requirement'}).text\n",
    "                zp = div.find('div', attrs={'data-qa' : 'vacancy-serp__vacancy-compensation'})\n",
    "                \n",
    "                if not zp:\n",
    "                    zp_min = None\n",
    "                    zp_max = None\n",
    "                else:\n",
    "                    zp = zp.text.replace(u'\\xa0', u'')                 \n",
    "\n",
    "                    if '-' in zp:\n",
    "                        zp_min = zp.split('-')[0]\n",
    "                        zp_max = zp.split('-')[1]\n",
    "                        \n",
    "                        zp_min += zp_max[-4   :]\n",
    "                    elif 'от' in zp:\n",
    "                        zp_min = zp.replace('от ','')\n",
    "                        zp_max = None\n",
    "                    elif 'до' in zp:\n",
    "                        zp_min = None\n",
    "                        zp_max = zp.replace('до ','')\n",
    "\n",
    "                jobs.append({\n",
    "                    'title':title,\n",
    "                    'href':href,\n",
    "                    'company':company,\n",
    "#                     'content':content,\n",
    "                    'zp_min': zp_min.replace('руб.',''),\n",
    "                    'zp_max': zp_max.replace('руб.','')\n",
    "                })\n",
    "            except:\n",
    "                pass\n",
    "# #       \n",
    "    else:\n",
    "        print('ERR or Done. Status_code = ' + str(request.status_code))\n",
    "    return jobs"
   ]
  },
  {
   "cell_type": "code",
   "execution_count": 30,
   "metadata": {
    "scrolled": true
   },
   "outputs": [
    {
     "name": "stdout",
     "output_type": "stream",
     "text": [
      "ERR or Done. Status_code = 200\n"
     ]
    },
    {
     "data": {
      "text/plain": [
       "[{'title': 'Художник стилизированных High-Poly персонажей',\n",
       "  'href': 'https://hh.ru/vacancy/33772610?query=%D1%85%D1%83%D0%B4%D0%BE%D0%B6%D0%BD%D0%B8%D0%BA',\n",
       "  'company': ' Cтудия Dragon-Fly',\n",
       "  'zp_min': '2000 USD',\n",
       "  'zp_max': '3000 USD'},\n",
       " {'title': 'Дизайнер-иллюстратор',\n",
       "  'href': 'https://hh.ru/vacancy/33961299?query=%D1%85%D1%83%D0%B4%D0%BE%D0%B6%D0%BD%D0%B8%D0%BA',\n",
       "  'company': ' Инсайт Груп',\n",
       "  'zp_min': '60000',\n",
       "  'zp_max': '130000 '},\n",
       " {'title': 'Художник стилизированных High-Poly персонажей',\n",
       "  'href': 'https://hh.ru/vacancy/33772610?query=%D1%85%D1%83%D0%B4%D0%BE%D0%B6%D0%BD%D0%B8%D0%BA',\n",
       "  'company': ' Cтудия Dragon-Fly',\n",
       "  'zp_min': '2000 USD',\n",
       "  'zp_max': '3000 USD'},\n",
       " {'title': 'Дизайнер-иллюстратор',\n",
       "  'href': 'https://hh.ru/vacancy/33961299?query=%D1%85%D1%83%D0%B4%D0%BE%D0%B6%D0%BD%D0%B8%D0%BA',\n",
       "  'company': ' Инсайт Груп',\n",
       "  'zp_min': '60000',\n",
       "  'zp_max': '130000 '},\n",
       " {'title': 'Художник по текстурам (texture artist) Substance painter',\n",
       "  'href': 'https://hh.ru/vacancy/34105508?query=%D1%85%D1%83%D0%B4%D0%BE%D0%B6%D0%BD%D0%B8%D0%BA',\n",
       "  'company': ' Cтудия Dragon-Fly',\n",
       "  'zp_min': '1300 USD',\n",
       "  'zp_max': '2000 USD'},\n",
       " {'title': 'Дизайнер-иллюстратор',\n",
       "  'href': 'https://hh.ru/vacancy/33415843?query=%D1%85%D1%83%D0%B4%D0%BE%D0%B6%D0%BD%D0%B8%D0%BA',\n",
       "  'company': 'ООО Гранд Торг',\n",
       "  'zp_min': '40000',\n",
       "  'zp_max': '60000 '},\n",
       " {'title': 'Художник-дизайнер',\n",
       "  'href': 'https://hh.ru/vacancy/34209803?query=%D1%85%D1%83%D0%B4%D0%BE%D0%B6%D0%BD%D0%B8%D0%BA',\n",
       "  'company': 'АО ТИССО',\n",
       "  'zp_min': '30000',\n",
       "  'zp_max': '60000 '},\n",
       " {'title': 'Дизайнер интерфейсов',\n",
       "  'href': 'https://hh.ru/vacancy/33133556?query=%D1%85%D1%83%D0%B4%D0%BE%D0%B6%D0%BD%D0%B8%D0%BA',\n",
       "  'company': 'ИП Тихонов Александр Игоревич',\n",
       "  'zp_min': '60000',\n",
       "  'zp_max': '100000 '},\n",
       " {'title': 'Методический дизайнер',\n",
       "  'href': 'https://hh.ru/vacancy/34142227?query=%D1%85%D1%83%D0%B4%D0%BE%D0%B6%D0%BD%D0%B8%D0%BA',\n",
       "  'company': ' Алгоритмика',\n",
       "  'zp_min': '80000',\n",
       "  'zp_max': '120000 '},\n",
       " {'title': 'CG Generalist / Художник дизайнер Unity 3D',\n",
       "  'href': 'https://hh.ru/vacancy/33954261?query=%D1%85%D1%83%D0%B4%D0%BE%D0%B6%D0%BD%D0%B8%D0%BA',\n",
       "  'company': ' Hello Computer',\n",
       "  'zp_min': '80000',\n",
       "  'zp_max': '120000 '},\n",
       " {'title': 'Графический дизайнер',\n",
       "  'href': 'https://hh.ru/vacancy/34060379?query=%D1%85%D1%83%D0%B4%D0%BE%D0%B6%D0%BD%D0%B8%D0%BA',\n",
       "  'company': ' Пинк.ру',\n",
       "  'zp_min': '80000',\n",
       "  'zp_max': '100000 '},\n",
       " {'title': 'Web-дизайнер (Графический дизайнер UI/UX)',\n",
       "  'href': 'https://hh.ru/vacancy/34198372?query=%D1%85%D1%83%D0%B4%D0%BE%D0%B6%D0%BD%D0%B8%D0%BA',\n",
       "  'company': ' Oxem Studio',\n",
       "  'zp_min': '50000',\n",
       "  'zp_max': '80000 '},\n",
       " {'title': 'Графический дизайнер',\n",
       "  'href': 'https://hh.ru/vacancy/34223241?query=%D1%85%D1%83%D0%B4%D0%BE%D0%B6%D0%BD%D0%B8%D0%BA',\n",
       "  'company': 'ООО Графика',\n",
       "  'zp_min': '40000',\n",
       "  'zp_max': '70000 '},\n",
       " {'title': 'Препресс-инженер/верстальщик',\n",
       "  'href': 'https://hh.ru/vacancy/34147293?query=%D1%85%D1%83%D0%B4%D0%BE%D0%B6%D0%BD%D0%B8%D0%BA',\n",
       "  'company': ' Шварц Медиа XXI век',\n",
       "  'zp_min': '50000',\n",
       "  'zp_max': '60000 '},\n",
       " {'title': 'Менеджер по развитию корпоративной культуры',\n",
       "  'href': 'https://hh.ru/vacancy/34239552?query=%D1%85%D1%83%D0%B4%D0%BE%D0%B6%D0%BD%D0%B8%D0%BA',\n",
       "  'company': ' MAXIMUM EDUCATION',\n",
       "  'zp_min': '40000',\n",
       "  'zp_max': '45000 '},\n",
       " {'title': 'Art Producer/Project Lead Artist',\n",
       "  'href': 'https://hh.ru/vacancy/30694392?query=%D1%85%D1%83%D0%B4%D0%BE%D0%B6%D0%BD%D0%B8%D0%BA',\n",
       "  'company': 'ООО G5 Entertainment AB',\n",
       "  'zp_min': '100000',\n",
       "  'zp_max': '230000 '},\n",
       " {'title': 'Art Producer/Project Lead Artist for HOG project',\n",
       "  'href': 'https://hh.ru/vacancy/33628561?query=%D1%85%D1%83%D0%B4%D0%BE%D0%B6%D0%BD%D0%B8%D0%BA',\n",
       "  'company': 'ООО G5 Entertainment AB',\n",
       "  'zp_min': '80000',\n",
       "  'zp_max': '200000 '},\n",
       " {'title': 'Ответственный секретарь редакции / Координатор издательских проектов',\n",
       "  'href': 'https://hh.ru/vacancy/33925373?query=%D1%85%D1%83%D0%B4%D0%BE%D0%B6%D0%BD%D0%B8%D0%BA',\n",
       "  'company': 'ООО Медиабюро Статус презенс',\n",
       "  'zp_min': '50000',\n",
       "  'zp_max': '60000 '},\n",
       " {'title': 'Культорганизатор',\n",
       "  'href': 'https://hh.ru/vacancy/34200093?query=%D1%85%D1%83%D0%B4%D0%BE%D0%B6%D0%BD%D0%B8%D0%BA',\n",
       "  'company': ' ГБУ ТЦСО',\n",
       "  'zp_min': '28318',\n",
       "  'zp_max': '28318 '},\n",
       " {'title': 'Преподаватель по маникюру',\n",
       "  'href': 'https://hh.ru/vacancy/33989170?query=%D1%85%D1%83%D0%B4%D0%BE%D0%B6%D0%BD%D0%B8%D0%BA',\n",
       "  'company': ' PR Nail Bar',\n",
       "  'zp_min': '12000',\n",
       "  'zp_max': '30000 '},\n",
       " {'title': 'Менеджер по оптовым продажам (товары для рисования)',\n",
       "  'href': 'https://hh.ru/vacancy/34039276?query=%D1%85%D1%83%D0%B4%D0%BE%D0%B6%D0%BD%D0%B8%D0%BA',\n",
       "  'company': 'ООО Арт-Холдинг',\n",
       "  'zp_min': '60000',\n",
       "  'zp_max': '100000 '},\n",
       " {'title': 'Редактор (детская литература, энциклопедии)',\n",
       "  'href': 'https://hh.ru/vacancy/31450912?query=%D1%85%D1%83%D0%B4%D0%BE%D0%B6%D0%BD%D0%B8%D0%BA',\n",
       "  'company': ' СИМБАТ',\n",
       "  'zp_min': '80000',\n",
       "  'zp_max': '100000 '},\n",
       " {'title': 'Мастер маникюра/педикюра',\n",
       "  'href': 'https://hh.ru/vacancy/34175872?query=%D1%85%D1%83%D0%B4%D0%BE%D0%B6%D0%BD%D0%B8%D0%BA',\n",
       "  'company': ' Пальчики',\n",
       "  'zp_min': '60000',\n",
       "  'zp_max': '100000 '},\n",
       " {'title': 'Менеджер по подбору персонала в интернет-издание',\n",
       "  'href': 'https://hh.ru/vacancy/33786077?query=%D1%85%D1%83%D0%B4%D0%BE%D0%B6%D0%BD%D0%B8%D0%BA',\n",
       "  'company': ' Медиаликс',\n",
       "  'zp_min': '50000',\n",
       "  'zp_max': '70000 '},\n",
       " {'title': 'Маркетолог',\n",
       "  'href': 'https://hh.ru/vacancy/34142973?query=%D1%85%D1%83%D0%B4%D0%BE%D0%B6%D0%BD%D0%B8%D0%BA',\n",
       "  'company': 'ООО Дизайн-фактория',\n",
       "  'zp_min': '80000',\n",
       "  'zp_max': '120000 '},\n",
       " {'title': 'Разработчик C++/cocos2d-x',\n",
       "  'href': 'https://hh.ru/vacancy/33925871?query=%D1%85%D1%83%D0%B4%D0%BE%D0%B6%D0%BD%D0%B8%D0%BA',\n",
       "  'company': ' FUSION CORE',\n",
       "  'zp_min': '130000',\n",
       "  'zp_max': '170000 '},\n",
       " {'title': 'Менеджер по маркетингу',\n",
       "  'href': 'https://hh.ru/vacancy/33556623?query=%D1%85%D1%83%D0%B4%D0%BE%D0%B6%D0%BD%D0%B8%D0%BA',\n",
       "  'company': ' diHouse (ГК ЛАНИТ)',\n",
       "  'zp_min': '45000',\n",
       "  'zp_max': '65000 '},\n",
       " {'title': 'Консультант салона оптики / продавец-консультант',\n",
       "  'href': 'https://hh.ru/vacancy/33917518?query=%D1%85%D1%83%D0%B4%D0%BE%D0%B6%D0%BD%D0%B8%D0%BA',\n",
       "  'company': ' Дилор',\n",
       "  'zp_min': '45000',\n",
       "  'zp_max': '80000 '},\n",
       " {'title': 'Разработчик Python',\n",
       "  'href': 'https://hh.ru/vacancy/34120963?query=%D1%85%D1%83%D0%B4%D0%BE%D0%B6%D0%BD%D0%B8%D0%BA',\n",
       "  'company': ' Асимметрик VFX (Asymmetric VFX Studio)',\n",
       "  'zp_min': '90000',\n",
       "  'zp_max': '150000 '},\n",
       " {'title': 'Менеджер по продажам в дизайн бутик',\n",
       "  'href': 'https://hh.ru/vacancy/34165474?query=%D1%85%D1%83%D0%B4%D0%BE%D0%B6%D0%BD%D0%B8%D0%BA',\n",
       "  'company': 'ООО Нью Арт',\n",
       "  'zp_min': '50000',\n",
       "  'zp_max': '120000 '},\n",
       " {'title': 'Программист 3D графики',\n",
       "  'href': 'https://hh.ru/vacancy/33177370?query=%D1%85%D1%83%D0%B4%D0%BE%D0%B6%D0%BD%D0%B8%D0%BA',\n",
       "  'company': ' Eagle Dynamics',\n",
       "  'zp_min': '100000',\n",
       "  'zp_max': '250000 '},\n",
       " {'title': 'Unreal Engine / C++ Developer',\n",
       "  'href': 'https://hh.ru/vacancy/33912669?query=%D1%85%D1%83%D0%B4%D0%BE%D0%B6%D0%BD%D0%B8%D0%BA',\n",
       "  'company': 'ООО Метроком',\n",
       "  'zp_min': '70000',\n",
       "  'zp_max': '110000 '},\n",
       " {'title': 'Менеджер по маркетингу и PR',\n",
       "  'href': 'https://hh.ru/vacancy/33835719?query=%D1%85%D1%83%D0%B4%D0%BE%D0%B6%D0%BD%D0%B8%D0%BA',\n",
       "  'company': ' Инсайт Груп',\n",
       "  'zp_min': '80000',\n",
       "  'zp_max': '130000 '},\n",
       " {'title': 'Менеджер по оптовым продажам (канцтовары)',\n",
       "  'href': 'https://hh.ru/vacancy/34101471?query=%D1%85%D1%83%D0%B4%D0%BE%D0%B6%D0%BD%D0%B8%D0%BA',\n",
       "  'company': ' Фила Статионари',\n",
       "  'zp_min': '80000',\n",
       "  'zp_max': '160000 '},\n",
       " {'title': 'Менеджер по работе с клиентами',\n",
       "  'href': 'https://hh.ru/vacancy/33837729?query=%D1%85%D1%83%D0%B4%D0%BE%D0%B6%D0%BD%D0%B8%D0%BA',\n",
       "  'company': 'ООО Дизайн-фактория',\n",
       "  'zp_min': '50000',\n",
       "  'zp_max': '70000 '}]"
      ]
     },
     "execution_count": 30,
     "metadata": {},
     "output_type": "execute_result"
    }
   ],
   "source": [
    "hh_parse(base_url, headers)"
   ]
  },
  {
   "cell_type": "code",
   "execution_count": 31,
   "metadata": {},
   "outputs": [
    {
     "name": "stdout",
     "output_type": "stream",
     "text": [
      "ERR or Done. Status_code = 200\n"
     ]
    }
   ],
   "source": [
    "def files_writer(jobs):\n",
    "    with open('python_hh_2210_2.csv', 'a') as file:\n",
    "        a_pen = csv.writer(file)\n",
    "        a_pen.writerow(('name_vacancy', 'URL', 'name_company', 'zp_min', 'zp_max'))\n",
    "        for job in jobs:\n",
    "            a_pen.writerow((job['title'], job['href'], job['company'], job['zp_min'],job['zp_max']))\n",
    "\n",
    "jobs = hh_parse(base_url, headers)\n",
    "files_writer(jobs)"
   ]
  },
  {
   "cell_type": "code",
   "execution_count": 32,
   "metadata": {},
   "outputs": [],
   "source": [
    "import pandas as pd"
   ]
  },
  {
   "cell_type": "code",
   "execution_count": 33,
   "metadata": {
    "scrolled": true
   },
   "outputs": [
    {
     "name": "stdout",
     "output_type": "stream",
     "text": [
      "<class 'pandas.core.frame.DataFrame'>\n",
      "RangeIndex: 370 entries, 0 to 369\n",
      "Data columns (total 5 columns):\n",
      "name_vacancy    370 non-null object\n",
      "URL             370 non-null object\n",
      "name_company    370 non-null object\n",
      "zp_min          370 non-null object\n",
      "zp_max          370 non-null object\n",
      "dtypes: object(5)\n",
      "memory usage: 14.6+ KB\n"
     ]
    },
    {
     "data": {
      "text/plain": [
       "(                        name_vacancy  \\\n",
       " 0                 Программист Python   \n",
       " 1                 Программист Python   \n",
       " 2     Junior Quantitative Researcher   \n",
       " 3  Backend python/Django разработчик   \n",
       " 4                 Программист Python   \n",
       " \n",
       "                                            URL              name_company  \\\n",
       " 0  https://hh.ru/vacancy/34247032?query=python          ООО Дефенс Групп   \n",
       " 1  https://hh.ru/vacancy/33887758?query=python   ЭВРИКА, Санкт-Петербург   \n",
       " 2  https://hh.ru/vacancy/31844648?query=python          ООО КВАНТПОРТРУС   \n",
       " 3  https://hh.ru/vacancy/33787768?query=python        ООО БОЛЬШАЯ ТРОЙКА   \n",
       " 4  https://hh.ru/vacancy/34247032?query=python          ООО Дефенс Групп   \n",
       " \n",
       "    zp_min   zp_max  \n",
       " 0  100000  150000   \n",
       " 1   80000  150000   \n",
       " 2  250000  250000   \n",
       " 3  120000  200000   \n",
       " 4  100000  150000   , None)"
      ]
     },
     "execution_count": 33,
     "metadata": {},
     "output_type": "execute_result"
    }
   ],
   "source": [
    "df = pd.read_csv('python_hh_2210_2.csv')\n",
    "df.head(), df.info()"
   ]
  }
 ],
 "metadata": {
  "kernelspec": {
   "display_name": "Python 3",
   "language": "python",
   "name": "python3"
  },
  "language_info": {
   "codemirror_mode": {
    "name": "ipython",
    "version": 3
   },
   "file_extension": ".py",
   "mimetype": "text/x-python",
   "name": "python",
   "nbconvert_exporter": "python",
   "pygments_lexer": "ipython3",
   "version": "3.7.3"
  }
 },
 "nbformat": 4,
 "nbformat_minor": 2
}
